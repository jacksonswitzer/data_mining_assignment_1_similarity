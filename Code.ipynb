{
 "cells": [
  {
   "cell_type": "code",
   "execution_count": 1,
   "id": "initial_id",
   "metadata": {},
   "outputs": [],
   "source": [
    "import pandas as pd\n",
    "import numpy as np\n",
    "import faiss\n",
    "import time"
   ]
  },
  {
   "cell_type": "code",
   "execution_count": 17,
   "id": "30a67f30-0009-4f07-8bf2-f7eaf6c03fd2",
   "metadata": {},
   "outputs": [],
   "source": [
    "#pd.set_option('display.max_rows', None)"
   ]
  },
  {
   "cell_type": "code",
   "execution_count": 48,
   "id": "e3c624ff-e9b1-4531-983f-aaaf50dd2d9f",
   "metadata": {},
   "outputs": [],
   "source": [
    "#pd.reset_option('display.max_rows')"
   ]
  },
  {
   "cell_type": "code",
   "execution_count": 74,
   "id": "a9506825-26e0-4846-bd9e-eda6aa13fa77",
   "metadata": {},
   "outputs": [],
   "source": [
    "#d = pd.read_csv('data/tokens.txt', header=None, delimiter=' ', quoting=3)"
   ]
  },
  {
   "cell_type": "code",
   "execution_count": 77,
   "id": "569f933d-f31d-42dc-a3f7-bac1dc82d027",
   "metadata": {},
   "outputs": [],
   "source": [
    "#d.to_pickle('data/tokens.pkl')"
   ]
  },
  {
   "cell_type": "code",
   "execution_count": 2,
   "id": "79e38a70-658d-42e0-9542-b9068d66e6c6",
   "metadata": {},
   "outputs": [],
   "source": [
    "d = pd.read_pickle('data/tokens.pkl')"
   ]
  },
  {
   "cell_type": "code",
   "execution_count": 3,
   "id": "0f077833-2dda-4f1e-9084-be6bc12440b0",
   "metadata": {},
   "outputs": [
    {
     "name": "stdout",
     "output_type": "stream",
     "text": [
      "      0         1         2\n",
      "0   the  0.306717 -0.320530\n",
      "1     ,  0.022532  0.320788\n",
      "2     . -0.075626  0.369955\n",
      "3    of  0.487177 -0.193218\n",
      "4    to  0.173940 -0.104660\n",
      "5   and  0.222883 -0.001161\n",
      "6    in  0.712315  0.451855\n",
      "7     a  0.048874  0.379618\n",
      "8     \"  0.019833  0.136752\n",
      "9     - -0.308798 -0.711716\n",
      "10   's  0.777245 -0.275744\n"
     ]
    }
   ],
   "source": [
    "#used to test after reading tokens.txt to see if I had done it right\n",
    "#then used to see what the first ten words were\n",
    "print(d.iloc[:11, :3])"
   ]
  },
  {
   "cell_type": "code",
   "execution_count": 4,
   "id": "c56b5103-2cdf-4f45-b50f-fef8da6e3ef1",
   "metadata": {},
   "outputs": [],
   "source": [
    "first_ten_words = d.iloc[[0,3,4,5,6,7,11,12,13,14]]"
   ]
  },
  {
   "cell_type": "code",
   "execution_count": null,
   "id": "73f54333-153d-4a4f-9ef4-793a83bd695f",
   "metadata": {},
   "outputs": [],
   "source": [
    "#cosine similarity = v1 dot v2 / (norm(v1) * norm(v2))\n",
    "#cosine distance = 1 - cosine similarity\n",
    "\n",
    "cos_similarities = np.empty((10,10))\n",
    "for i in range(10):\n",
    "    for j in range (10):\n",
    "        cos_similarities[i, j] = np.dot(first_ten_words.iloc[i, 1:], first_ten_words.iloc[j, 1:]) / (np.linalg.norm(first_ten_words.iloc[i, 1:]) * np.linalg.norm(first_ten_words.iloc[j, 1:]))\n",
    "cos_similarities = np.clip(cos_similarities, -1, 1) #clipped to fix a rounding error\n",
    "cos_distances = 1 - cos_similarities\n",
    "\n",
    "print(np.round(cos_distances, decimals=3))"
   ]
  },
  {
   "cell_type": "code",
   "execution_count": null,
   "id": "e55a6423-0fe2-4ded-a648-0f3d96841e9a",
   "metadata": {},
   "outputs": [],
   "source": [
    "#angular distance = arccos(v1 dot v2 / (norm(v1) * norm(v2)))\n",
    "\n",
    "angular_distances = np.arccos(cos_similarities)\n",
    "\n",
    "print(np.round(angular_distances, decimals=3))"
   ]
  },
  {
   "cell_type": "code",
   "execution_count": null,
   "id": "707e3a6b-0649-4e2c-8658-6d1467e1609f",
   "metadata": {},
   "outputs": [],
   "source": [
    "ang_dis_arr_rounded_no_repeats = np.tril(np.round(angular_distances, decimals=4))\n",
    "ang_dis_df = pd.DataFrame(columns=['word1', 'word2', 'angular distance'])\n",
    "for i in range(10):\n",
    "    for j in range(10):\n",
    "        if ang_dis_arr_rounded_no_repeats[i,j] != 0:\n",
    "            ang_dis_df.loc[len(ang_dis_df)] = {'word1': first_ten_words.iloc[i,0], 'word2': first_ten_words.iloc[j,0], 'angular distance': ang_dis_arr_rounded_no_repeats[i,j]}\n",
    "\n",
    "ang_dis_dif = ang_dis_df.sort_values('angular distance')\n",
    "print(ang_dis_dif)"
   ]
  },
  {
   "cell_type": "code",
   "execution_count": null,
   "id": "722227e5-d512-4723-af17-5208e1306980",
   "metadata": {},
   "outputs": [],
   "source": [
    "#for comparison (make sure the list is the same with both distances measures)\n",
    "\n",
    "cos_dis_arr_rounded_no_repeats = np.tril(np.round(cos_distances, decimals=4))\n",
    "cos_dis_df = pd.DataFrame(columns=['word1', 'word2', 'cosine distance'])\n",
    "for i in range(10):\n",
    "    for j in range(10):\n",
    "        if cos_dis_arr_rounded_no_repeats[i,j] != 0:\n",
    "            cos_dis_df.loc[len(cos_dis_df)] = {'word1': first_ten_words.iloc[i,0], 'word2': first_ten_words.iloc[j,0], 'cosine distance': cos_dis_arr_rounded_no_repeats[i,j]}\n",
    "\n",
    "cos_dis_dif = cos_dis_df.sort_values('cosine distance')\n",
    "print(cos_dis_dif)"
   ]
  },
  {
   "cell_type": "code",
   "execution_count": null,
   "id": "932c37b3-a4a1-400b-9c84-f30bbc44faec",
   "metadata": {},
   "outputs": [],
   "source": [
    "# QUESTION 2"
   ]
  },
  {
   "cell_type": "code",
   "execution_count": 9,
   "id": "9acc6b69-2c27-48bc-a608-1924bed33cc2",
   "metadata": {},
   "outputs": [
    {
     "name": "stdout",
     "output_type": "stream",
     "text": [
      "Time for operation:  0.830906867980957\n"
     ]
    }
   ],
   "source": [
    "start_time = time.time()\n",
    "\n",
    "embeddings = d.iloc[:100000, 1:].to_numpy().astype('float32')\n",
    "dim = embeddings.shape[1]\n",
    "index = faiss.IndexFlatL2(dim)\n",
    "index.add(embeddings)\n",
    "\n",
    "end_time = time.time()\n",
    "print('Time for operation: ', end_time - start_time)"
   ]
  },
  {
   "cell_type": "code",
   "execution_count": 10,
   "id": "92f0ca16-2950-472c-99c2-47de47e92e34",
   "metadata": {},
   "outputs": [
    {
     "name": "stdout",
     "output_type": "stream",
     "text": [
      "Number of vectors in index: 100000\n"
     ]
    }
   ],
   "source": [
    "print('Number of vectors in index:', index.ntotal)"
   ]
  },
  {
   "cell_type": "code",
   "execution_count": 11,
   "id": "dedb55d2-f18b-44d3-a359-a0da252e8733",
   "metadata": {},
   "outputs": [
    {
     "name": "stdout",
     "output_type": "stream",
     "text": [
      "Embedding array size (MB): 38.14697265625\n"
     ]
    }
   ],
   "source": [
    "print('Embedding array size (MB):', embeddings.nbytes / (1024*1024))"
   ]
  },
  {
   "cell_type": "code",
   "execution_count": 36,
   "id": "e5e47ce4-277c-4c5c-aa82-de6db8b78378",
   "metadata": {},
   "outputs": [
    {
     "name": "stdout",
     "output_type": "stream",
     "text": [
      "Time for operation:  0.09443473815917969\n"
     ]
    }
   ],
   "source": [
    "#refers to the row index from the previous cell as the query for index.search()\n",
    "#the is the number of neighbors to return\n",
    "query_word = 'data'\n",
    "n_neighbors_to_fetch = 31\n",
    "\n",
    "start_time = time.time()\n",
    "\n",
    "query_index = d[d[0]==query_word].index[0]\n",
    "query_word_token = embeddings[query_index : query_index+1]\n",
    "distances_to_knn, indices_of_knn = index.search(query_word_token, n_neighbors_to_fetch)\n",
    "\n",
    "end_time = time.time()\n",
    "print('Time for operation: ', end_time - start_time)"
   ]
  },
  {
   "cell_type": "code",
   "execution_count": 22,
   "id": "4755688b-0879-4785-8206-0e9009b526e9",
   "metadata": {},
   "outputs": [
    {
     "data": {
      "text/plain": [
       "array([ 0.      , 18.257359, 19.054846, 21.089666, 21.189434, 23.210901,\n",
       "       23.637829, 24.611519, 24.932158, 25.014446, 25.301332, 25.402464,\n",
       "       26.047045, 26.098978, 26.23256 , 26.469494, 27.03086 , 27.048824,\n",
       "       27.206549, 27.261578, 27.412685, 27.416449, 27.439491, 27.583212,\n",
       "       27.586948, 27.662615, 27.700062, 27.753094, 27.951813, 28.021767,\n",
       "       28.038372], dtype=float32)"
      ]
     },
     "execution_count": 22,
     "metadata": {},
     "output_type": "execute_result"
    }
   ],
   "source": [
    "distances_to_knn[0]"
   ]
  },
  {
   "cell_type": "code",
   "execution_count": 27,
   "id": "89096a9b-f9c6-4c85-af88-45fd3cb07779",
   "metadata": {},
   "outputs": [
    {
     "name": "stdout",
     "output_type": "stream",
     "text": [
      "                 word  Euclidean distance\n",
      "943              data            0.000000\n",
      "447       information           18.257359\n",
      "2535         analysis           19.054846\n",
      "6716         tracking           21.089666\n",
      "6782         database           21.189434\n",
      "3605     applications           23.210901\n",
      "1361          numbers           23.637829\n",
      "4490         indicate           24.611519\n",
      "1530          account           24.932158\n",
      "1181         provided           25.014446\n",
      "5950       indicating           25.301332\n",
      "836         available           25.402464\n",
      "15598       databases           26.047045\n",
      "990          computer           26.098978\n",
      "5434       comparison           26.232559\n",
      "2164         accounts           26.469494\n",
      "1223          systems           27.030861\n",
      "11444        analyzed           27.048824\n",
      "2307       statistics           27.206549\n",
      "5635        indicates           27.261578\n",
      "14160        analyses           27.412685\n",
      "2558       electronic           27.416449\n",
      "6349   identification           27.439491\n",
      "3469         suggests           27.583212\n",
      "3467      application           27.586948\n",
      "1779          initial           27.662615\n",
      "1503          product           27.700062\n",
      "633             using           27.753094\n",
      "701           reports           27.951813\n",
      "735           results           28.021767\n",
      "2116          digital           28.038372\n"
     ]
    }
   ],
   "source": [
    "closest = pd.DataFrame(columns=['word','Euclidean distance'])\n",
    "closest['word'] = d.iloc[indices_of_knn[0],0]\n",
    "closest['Euclidean distance'] = distances_to_knn[0]\n",
    "print(closest)"
   ]
  },
  {
   "cell_type": "code",
   "execution_count": 37,
   "id": "1399dbc5-2706-4c78-8977-bc0ff225948b",
   "metadata": {},
   "outputs": [
    {
     "name": "stdout",
     "output_type": "stream",
     "text": [
      "Time for operation:  0.11804723739624023\n"
     ]
    }
   ],
   "source": [
    "#exact duplicate of code from a few cells above, I just wanted to make it a new cell because everything above here works perfectly\n",
    "\n",
    "query_word = 'data'\n",
    "n_neighbors_to_fetch = 100000\n",
    "\n",
    "start_time = time.time()\n",
    "\n",
    "query_index = d[d[0]==query_word].index[0]\n",
    "query_word_token = embeddings[query_index : query_index+1]\n",
    "distances_to_knn, indices_of_knn = index.search(query_word_token, n_neighbors_to_fetch)\n",
    "\n",
    "end_time = time.time()\n",
    "print('Time for operation: ', end_time - start_time)"
   ]
  },
  {
   "cell_type": "code",
   "execution_count": 65,
   "id": "fb733bea-34a0-4c61-8b4e-19a8c92fcf08",
   "metadata": {},
   "outputs": [
    {
     "name": "stdout",
     "output_type": "stream",
     "text": [
      "              word  Euclidean distance\n",
      "447    information           18.257359\n",
      "2535      analysis           19.054846\n",
      "6716      tracking           21.089666\n",
      "6782      database           21.189434\n",
      "3605  applications           23.210901\n",
      "1361       numbers           23.637829\n",
      "4490      indicate           24.611519\n",
      "1530       account           24.932158\n",
      "1181      provided           25.014446\n",
      "5950    indicating           25.301332\n"
     ]
    }
   ],
   "source": [
    "closest = pd.DataFrame(columns=['word','Euclidean distance'])\n",
    "closest['word'] = d.iloc[indices_of_knn[0][1:11]][0]\n",
    "closest['Euclidean distance'] = distances_to_knn[0][1:11]\n",
    "print(closest)"
   ]
  }
 ],
 "metadata": {
  "kernelspec": {
   "display_name": "data_mining_assignment_2_similarity_venv",
   "language": "python",
   "name": "data_mining_assignment_2_similarity_venv"
  },
  "language_info": {
   "codemirror_mode": {
    "name": "ipython",
    "version": 3
   },
   "file_extension": ".py",
   "mimetype": "text/x-python",
   "name": "python",
   "nbconvert_exporter": "python",
   "pygments_lexer": "ipython3",
   "version": "3.12.3"
  }
 },
 "nbformat": 4,
 "nbformat_minor": 5
}
