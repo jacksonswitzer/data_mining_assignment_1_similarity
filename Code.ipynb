{
 "cells": [
  {
   "cell_type": "code",
   "execution_count": 1,
   "id": "initial_id",
   "metadata": {},
   "outputs": [],
   "source": [
    "import pandas as pd\n",
    "import numpy as np\n",
    "import faiss\n",
    "import time"
   ]
  },
  {
   "cell_type": "code",
   "execution_count": 2,
   "id": "30a67f30-0009-4f07-8bf2-f7eaf6c03fd2",
   "metadata": {},
   "outputs": [],
   "source": [
    "#pd.set_option('display.max_rows', None)"
   ]
  },
  {
   "cell_type": "code",
   "execution_count": 3,
   "id": "e3c624ff-e9b1-4531-983f-aaaf50dd2d9f",
   "metadata": {},
   "outputs": [],
   "source": [
    "#pd.reset_option('display.max_rows')"
   ]
  },
  {
   "cell_type": "code",
   "execution_count": 4,
   "id": "a9506825-26e0-4846-bd9e-eda6aa13fa77",
   "metadata": {},
   "outputs": [],
   "source": [
    "#d = pd.read_csv('data/tokens.txt', header=None, delimiter=' ', quoting=3)"
   ]
  },
  {
   "cell_type": "code",
   "execution_count": 5,
   "id": "569f933d-f31d-42dc-a3f7-bac1dc82d027",
   "metadata": {},
   "outputs": [],
   "source": [
    "#d.to_pickle('data/tokens.pkl')"
   ]
  },
  {
   "cell_type": "code",
   "execution_count": 6,
   "id": "79e38a70-658d-42e0-9542-b9068d66e6c6",
   "metadata": {},
   "outputs": [],
   "source": [
    "d = pd.read_pickle('data/tokens.pkl')"
   ]
  },
  {
   "cell_type": "code",
   "execution_count": 7,
   "id": "0f077833-2dda-4f1e-9084-be6bc12440b0",
   "metadata": {},
   "outputs": [
    {
     "name": "stdout",
     "output_type": "stream",
     "text": [
      "       0         1         2\n",
      "0    the  0.306717 -0.320530\n",
      "1      ,  0.022532  0.320788\n",
      "2      . -0.075626  0.369955\n",
      "3     of  0.487177 -0.193218\n",
      "4     to  0.173940 -0.104660\n",
      "5    and  0.222883 -0.001161\n",
      "6     in  0.712315  0.451855\n",
      "7      a  0.048874  0.379618\n",
      "8      \"  0.019833  0.136752\n",
      "9      - -0.308798 -0.711716\n",
      "10    's  0.777245 -0.275744\n",
      "11   for  0.312680  0.062339\n",
      "12  that  0.465040 -0.383865\n",
      "13    on  0.285893 -0.133414\n",
      "14   was  0.444401  0.233967\n",
      "15    is  0.826911 -0.049384\n",
      "16  said -0.434792  0.498616\n",
      "17  with  0.213500  0.433140\n",
      "18    he  0.753313  0.336813\n",
      "19    as  0.414907 -0.157948\n",
      "20    it  0.401223  0.298163\n"
     ]
    }
   ],
   "source": [
    "#used to test after reading tokens.txt to see if I had done it right\n",
    "#then used to see what the first ten words were\n",
    "print(d.iloc[:21, :3])"
   ]
  },
  {
   "cell_type": "code",
   "execution_count": 8,
   "id": "c56b5103-2cdf-4f45-b50f-fef8da6e3ef1",
   "metadata": {},
   "outputs": [],
   "source": [
    "first_ten_words = d.iloc[[0,3,4,5,6,7,11,12,13,14]]"
   ]
  },
  {
   "cell_type": "code",
   "execution_count": 9,
   "id": "73f54333-153d-4a4f-9ef4-793a83bd695f",
   "metadata": {},
   "outputs": [
    {
     "name": "stdout",
     "output_type": "stream",
     "text": [
      "[[0.    0.145 0.199 0.205 0.153 0.18  0.182 0.138 0.155 0.202]\n",
      " [0.145 0.    0.271 0.191 0.173 0.209 0.187 0.217 0.231 0.288]\n",
      " [0.199 0.271 0.    0.194 0.218 0.25  0.163 0.164 0.183 0.322]\n",
      " [0.205 0.191 0.194 0.    0.172 0.262 0.144 0.172 0.176 0.273]\n",
      " [0.153 0.173 0.218 0.172 0.    0.189 0.179 0.203 0.17  0.2  ]\n",
      " [0.18  0.209 0.25  0.262 0.189 0.    0.17  0.189 0.21  0.216]\n",
      " [0.182 0.187 0.163 0.144 0.179 0.17  0.    0.164 0.138 0.246]\n",
      " [0.138 0.217 0.164 0.172 0.203 0.189 0.164 0.    0.189 0.235]\n",
      " [0.155 0.231 0.183 0.176 0.17  0.21  0.138 0.189 0.    0.236]\n",
      " [0.202 0.288 0.322 0.273 0.2   0.216 0.246 0.235 0.236 0.   ]]\n"
     ]
    }
   ],
   "source": [
    "#cosine similarity = v1 dot v2 / (norm(v1) * norm(v2))\n",
    "#cosine distance = 1 - cosine similarity\n",
    "\n",
    "cos_similarities = np.empty((10,10))\n",
    "for i in range(10):\n",
    "    for j in range (10):\n",
    "        cos_similarities[i, j] = np.dot(first_ten_words.iloc[i, 1:], first_ten_words.iloc[j, 1:]) / (np.linalg.norm(first_ten_words.iloc[i, 1:]) * np.linalg.norm(first_ten_words.iloc[j, 1:]))\n",
    "cos_similarities = np.clip(cos_similarities, -1, 1) #clipped to fix a rounding error\n",
    "cos_distances = 1 - cos_similarities\n",
    "\n",
    "print(np.round(cos_distances, decimals=3))"
   ]
  },
  {
   "cell_type": "code",
   "execution_count": 10,
   "id": "e55a6423-0fe2-4ded-a648-0f3d96841e9a",
   "metadata": {},
   "outputs": [
    {
     "name": "stdout",
     "output_type": "stream",
     "text": [
      "[[0.    0.545 0.642 0.652 0.56  0.61  0.613 0.532 0.564 0.647]\n",
      " [0.545 0.    0.753 0.628 0.598 0.658 0.622 0.671 0.693 0.779]\n",
      " [0.642 0.753 0.    0.633 0.673 0.723 0.579 0.581 0.614 0.826]\n",
      " [0.652 0.628 0.633 0.    0.595 0.741 0.544 0.596 0.602 0.757]\n",
      " [0.56  0.598 0.673 0.595 0.    0.626 0.607 0.649 0.592 0.644]\n",
      " [0.61  0.658 0.723 0.741 0.626 0.    0.591 0.625 0.661 0.669]\n",
      " [0.613 0.622 0.579 0.544 0.607 0.591 0.    0.581 0.531 0.717]\n",
      " [0.532 0.671 0.581 0.596 0.649 0.625 0.581 0.    0.624 0.7  ]\n",
      " [0.564 0.693 0.614 0.602 0.592 0.661 0.531 0.624 0.    0.701]\n",
      " [0.647 0.779 0.826 0.757 0.644 0.669 0.717 0.7   0.701 0.   ]]\n"
     ]
    }
   ],
   "source": [
    "#angular distance = arccos(v1 dot v2 / (norm(v1) * norm(v2)))\n",
    "\n",
    "angular_distances = np.arccos(cos_similarities)\n",
    "\n",
    "print(np.round(angular_distances, decimals=3))"
   ]
  },
  {
   "cell_type": "code",
   "execution_count": 11,
   "id": "8c80a64b-58d7-4e35-a7d6-661be9f2f1a5",
   "metadata": {},
   "outputs": [],
   "source": [
    "def angular_distance(vec1, vec2):\n",
    "    dot_product = np.dot(vec1, vec2)\n",
    "    norm1 = np.linalg.norm(vec1)\n",
    "    norm2 = np.linalg.norm(vec2)\n",
    "    \n",
    "    if norm1 == 0 or norm2 == 0:\n",
    "        return np.pi  # max angle if either vector is zero\n",
    "\n",
    "    cosine_sim = dot_product / (norm1 * norm2)\n",
    "    cosine_sim = np.clip(cosine_sim, -1.0, 1.0)\n",
    "\n",
    "    return np.arccos(cosine_sim)  # raw angle in radians"
   ]
  },
  {
   "cell_type": "code",
   "execution_count": 12,
   "id": "707e3a6b-0649-4e2c-8658-6d1467e1609f",
   "metadata": {},
   "outputs": [
    {
     "name": "stdout",
     "output_type": "stream",
     "text": [
      "   word1 word2  angular distance\n",
      "34    on   for            0.5311\n",
      "21  that   the            0.5319\n",
      "18   for   and            0.5438\n",
      "0     of   the            0.5455\n",
      "6     in   the            0.5601\n",
      "28    on   the            0.5639\n",
      "17   for    to            0.5790\n",
      "27  that   for            0.5813\n",
      "23  that    to            0.5814\n",
      "20   for     a            0.5908\n",
      "32    on    in            0.5924\n",
      "9     in   and            0.5945\n",
      "24  that   and            0.5961\n",
      "7     in    of            0.5979\n",
      "31    on   and            0.6021\n",
      "19   for    in            0.6070\n",
      "10     a   the            0.6097\n",
      "15   for   the            0.6126\n",
      "30    on    to            0.6145\n",
      "16   for    of            0.6223\n",
      "35    on  that            0.6245\n",
      "26  that     a            0.6250\n",
      "14     a    in            0.6257\n",
      "4    and    of            0.6276\n",
      "5    and    to            0.6329\n",
      "1     to   the            0.6416\n",
      "40   was    in            0.6437\n",
      "36   was   the            0.6470\n",
      "25  that    in            0.6493\n",
      "3    and   the            0.6518\n",
      "11     a    of            0.6582\n",
      "33    on     a            0.6607\n",
      "41   was     a            0.6690\n",
      "22  that    of            0.6709\n",
      "8     in    to            0.6727\n",
      "29    on    of            0.6930\n",
      "43   was  that            0.7000\n",
      "44   was    on            0.7006\n",
      "42   was   for            0.7165\n",
      "12     a    to            0.7225\n",
      "13     a   and            0.7407\n",
      "2     to    of            0.7534\n",
      "39   was   and            0.7571\n",
      "37   was    of            0.7790\n",
      "38   was    to            0.8256\n"
     ]
    }
   ],
   "source": [
    "ang_dis_arr_rounded_no_repeats = np.tril(np.round(angular_distances, decimals=4))\n",
    "ang_dis_df = pd.DataFrame(columns=['word1', 'word2', 'angular distance'])\n",
    "for i in range(10):\n",
    "    for j in range(10):\n",
    "        if ang_dis_arr_rounded_no_repeats[i,j] != 0:\n",
    "            ang_dis_df.loc[len(ang_dis_df)] = {'word1': first_ten_words.iloc[i,0], 'word2': first_ten_words.iloc[j,0], 'angular distance': ang_dis_arr_rounded_no_repeats[i,j]}\n",
    "\n",
    "ang_dis_dif = ang_dis_df.sort_values('angular distance')\n",
    "print(ang_dis_dif)"
   ]
  },
  {
   "cell_type": "code",
   "execution_count": 13,
   "id": "722227e5-d512-4723-af17-5208e1306980",
   "metadata": {},
   "outputs": [
    {
     "name": "stdout",
     "output_type": "stream",
     "text": [
      "   word1 word2  cosine distance\n",
      "34    on   for           0.1378\n",
      "21  that   the           0.1382\n",
      "18   for   and           0.1442\n",
      "0     of   the           0.1451\n",
      "6     in   the           0.1528\n",
      "28    on   the           0.1548\n",
      "17   for    to           0.1630\n",
      "27  that   for           0.1642\n",
      "23  that    to           0.1643\n",
      "20   for     a           0.1695\n",
      "32    on    in           0.1704\n",
      "9     in   and           0.1716\n",
      "24  that   and           0.1725\n",
      "7     in    of           0.1735\n",
      "31    on   and           0.1759\n",
      "19   for    in           0.1787\n",
      "10     a   the           0.1802\n",
      "15   for   the           0.1818\n",
      "30    on    to           0.1829\n",
      "16   for    of           0.1875\n",
      "35    on  that           0.1887\n",
      "26  that     a           0.1891\n",
      "14     a    in           0.1894\n",
      "4    and    of           0.1905\n",
      "5    and    to           0.1937\n",
      "1     to   the           0.1989\n",
      "40   was    in           0.2001\n",
      "36   was   the           0.2021\n",
      "25  that    in           0.2035\n",
      "3    and   the           0.2050\n",
      "11     a    of           0.2089\n",
      "33    on     a           0.2104\n",
      "41   was     a           0.2156\n",
      "22  that    of           0.2167\n",
      "8     in    to           0.2179\n",
      "29    on    of           0.2307\n",
      "43   was  that           0.2352\n",
      "44   was    on           0.2356\n",
      "42   was   for           0.2459\n",
      "12     a    to           0.2499\n",
      "13     a   and           0.2620\n",
      "2     to    of           0.2706\n",
      "39   was   and           0.2731\n",
      "37   was    of           0.2884\n",
      "38   was    to           0.3219\n"
     ]
    }
   ],
   "source": [
    "#for comparison (make sure the list is the same with both distances measures)\n",
    "\n",
    "cos_dis_arr_rounded_no_repeats = np.tril(np.round(cos_distances, decimals=4))\n",
    "cos_dis_df = pd.DataFrame(columns=['word1', 'word2', 'cosine distance'])\n",
    "for i in range(10):\n",
    "    for j in range(10):\n",
    "        if cos_dis_arr_rounded_no_repeats[i,j] != 0:\n",
    "            cos_dis_df.loc[len(cos_dis_df)] = {'word1': first_ten_words.iloc[i,0], 'word2': first_ten_words.iloc[j,0], 'cosine distance': cos_dis_arr_rounded_no_repeats[i,j]}\n",
    "\n",
    "cos_dis_dif = cos_dis_df.sort_values('cosine distance')\n",
    "print(cos_dis_dif)"
   ]
  },
  {
   "cell_type": "code",
   "execution_count": 14,
   "id": "932c37b3-a4a1-400b-9c84-f30bbc44faec",
   "metadata": {},
   "outputs": [],
   "source": [
    "# QUESTION 2"
   ]
  },
  {
   "cell_type": "code",
   "execution_count": 15,
   "id": "9acc6b69-2c27-48bc-a608-1924bed33cc2",
   "metadata": {},
   "outputs": [
    {
     "name": "stdout",
     "output_type": "stream",
     "text": [
      "Time for operation:  0.7488148212432861\n"
     ]
    }
   ],
   "source": [
    "#2A\n",
    "start_time = time.time()\n",
    "\n",
    "embeddings = d.iloc[:100000, 1:].to_numpy().astype('float32')\n",
    "dim = embeddings.shape[1]\n",
    "index = faiss.IndexFlatL2(dim)\n",
    "index.add(embeddings)\n",
    "\n",
    "end_time = time.time()\n",
    "print('Time for operation: ', end_time - start_time)"
   ]
  },
  {
   "cell_type": "code",
   "execution_count": 16,
   "id": "92f0ca16-2950-472c-99c2-47de47e92e34",
   "metadata": {},
   "outputs": [
    {
     "name": "stdout",
     "output_type": "stream",
     "text": [
      "Number of vectors in index: 100000\n"
     ]
    }
   ],
   "source": [
    "print('Number of vectors in index:', index.ntotal)"
   ]
  },
  {
   "cell_type": "code",
   "execution_count": 17,
   "id": "dedb55d2-f18b-44d3-a359-a0da252e8733",
   "metadata": {},
   "outputs": [
    {
     "name": "stdout",
     "output_type": "stream",
     "text": [
      "Embedding array size (MB): 38.14697265625\n"
     ]
    }
   ],
   "source": [
    "print('Embedding array size (MB):', embeddings.nbytes / (1024*1024))"
   ]
  },
  {
   "cell_type": "code",
   "execution_count": 18,
   "id": "e5e47ce4-277c-4c5c-aa82-de6db8b78378",
   "metadata": {},
   "outputs": [
    {
     "name": "stdout",
     "output_type": "stream",
     "text": [
      "Time for operation:  0.0861518383026123\n"
     ]
    }
   ],
   "source": [
    "#2B and C (just change n_neighbors_to_fetch)\n",
    "#refers to the row index from the previous cell as the query for index.search()\n",
    "#the is the number of neighbors to return\n",
    "query_word = 'data'\n",
    "n_neighbors_to_fetch = 31\n",
    "\n",
    "start_time = time.time()\n",
    "\n",
    "query_index = d[d[0]==query_word].index[0]\n",
    "query_word_token = embeddings[query_index : query_index+1]\n",
    "distances_to_knn, indices_of_knn = index.search(query_word_token, n_neighbors_to_fetch)\n",
    "\n",
    "end_time = time.time()\n",
    "print('Time for operation: ', end_time - start_time)"
   ]
  },
  {
   "cell_type": "code",
   "execution_count": 19,
   "id": "4755688b-0879-4785-8206-0e9009b526e9",
   "metadata": {},
   "outputs": [
    {
     "data": {
      "text/plain": [
       "array([ 0.      , 18.257359, 19.054846, 21.089666, 21.189434, 23.210901,\n",
       "       23.637829, 24.611519, 24.932158, 25.014446, 25.301332, 25.402464,\n",
       "       26.047045, 26.098978, 26.23256 , 26.469494, 27.03086 , 27.048824,\n",
       "       27.206549, 27.261578, 27.412685, 27.416449, 27.439491, 27.583212,\n",
       "       27.586948, 27.662615, 27.700062, 27.753094, 27.951813, 28.021767,\n",
       "       28.038372], dtype=float32)"
      ]
     },
     "execution_count": 19,
     "metadata": {},
     "output_type": "execute_result"
    }
   ],
   "source": [
    "distances_to_knn[0]"
   ]
  },
  {
   "cell_type": "code",
   "execution_count": 20,
   "id": "89096a9b-f9c6-4c85-af88-45fd3cb07779",
   "metadata": {},
   "outputs": [
    {
     "name": "stdout",
     "output_type": "stream",
     "text": [
      "                 word  Euclidean distance\n",
      "943              data            0.000000\n",
      "447       information           18.257359\n",
      "2535         analysis           19.054846\n",
      "6716         tracking           21.089666\n",
      "6782         database           21.189434\n",
      "3605     applications           23.210901\n",
      "1361          numbers           23.637829\n",
      "4490         indicate           24.611519\n",
      "1530          account           24.932158\n",
      "1181         provided           25.014446\n",
      "5950       indicating           25.301332\n",
      "836         available           25.402464\n",
      "15598       databases           26.047045\n",
      "990          computer           26.098978\n",
      "5434       comparison           26.232559\n",
      "2164         accounts           26.469494\n",
      "1223          systems           27.030861\n",
      "11444        analyzed           27.048824\n",
      "2307       statistics           27.206549\n",
      "5635        indicates           27.261578\n",
      "14160        analyses           27.412685\n",
      "2558       electronic           27.416449\n",
      "6349   identification           27.439491\n",
      "3469         suggests           27.583212\n",
      "3467      application           27.586948\n",
      "1779          initial           27.662615\n",
      "1503          product           27.700062\n",
      "633             using           27.753094\n",
      "701           reports           27.951813\n",
      "735           results           28.021767\n",
      "2116          digital           28.038372\n"
     ]
    }
   ],
   "source": [
    "closest = pd.DataFrame(columns=['word','Euclidean distance'])\n",
    "closest['word'] = d.iloc[indices_of_knn[0],0]\n",
    "closest['Euclidean distance'] = distances_to_knn[0]\n",
    "print(closest)"
   ]
  },
  {
   "cell_type": "code",
   "execution_count": 21,
   "id": "1399dbc5-2706-4c78-8977-bc0ff225948b",
   "metadata": {},
   "outputs": [],
   "source": [
    "#first attempt at 2D, but it turns out I misunderstood the assignment and didn't need to do this\n",
    "#exact duplicate of code from a few cells above, I just wanted to make it a new cell because everything above here works perfectly\n",
    "\n",
    "#query_word = 'data'\n",
    "#n_neighbors_to_fetch = 100000\n",
    "\n",
    "#start_time = time.time()\n",
    "\n",
    "#query_index = d[d[0]==query_word].index[0]\n",
    "#query_word_token = embeddings[query_index : query_index+1]\n",
    "#distances_to_knn, indices_of_knn = index.search(query_word_token, n_neighbors_to_fetch)\n",
    "\n",
    "#end_time = time.time()\n",
    "#print('Time for operation: ', end_time - start_time)\n",
    "\n",
    "#closest = pd.DataFrame(columns=['word','Euclidean distance'])\n",
    "#closest['word'] = d.iloc[indices_of_knn[0][1:11]][0]\n",
    "#closest['Euclidean distance'] = distances_to_knn[0][1:11]\n",
    "#print(closest)"
   ]
  },
  {
   "cell_type": "code",
   "execution_count": 25,
   "id": "4eaf902d-037f-4472-84c1-3cd5fce89683",
   "metadata": {},
   "outputs": [
    {
     "name": "stdout",
     "output_type": "stream",
     "text": [
      "               word  Euclidean distance from \"data\"\n",
      "943            data                        0.000000\n",
      "447     information                        4.272863\n",
      "2535       analysis                        4.365185\n",
      "6716       tracking                        4.592349\n",
      "6782       database                        4.603198\n",
      "3605   applications                        4.817769\n",
      "1361        numbers                        4.861875\n",
      "4490       indicate                        4.961000\n",
      "1530        account                        4.993211\n",
      "1181       provided                        5.001444\n",
      "5950     indicating                        5.030043\n",
      "836       available                        5.040086\n",
      "15598     databases                        5.103630\n",
      "990        computer                        5.108716\n",
      "5434     comparison                        5.121773\n",
      "0.3712325096130371\n"
     ]
    }
   ],
   "source": [
    "#2D\n",
    "\n",
    "query_word = 'data'\n",
    "query_index = d[d[0]==query_word].index[0]\n",
    "words = d.iloc[:100000,0].to_numpy()\n",
    "tokens = d.iloc[:100000, 1:].to_numpy()\n",
    "euc_dist = np.empty(100000)\n",
    "query_token = tokens[query_index]\n",
    "\n",
    "starttime = time.time()\n",
    "for i in range(len(words)):\n",
    "    euc_dist[i] = np.linalg.norm(tokens[i] - query_token)\n",
    "endtime = time.time()\n",
    "\n",
    "distances_df = pd.DataFrame({'word':words, 'Euclidean distance from \"data\"':euc_dist})\n",
    "distances_df = distances_df.sort_values('Euclidean distance from \"data\"')\n",
    "print(distances_df.head(15))\n",
    "print(endtime-starttime)"
   ]
  },
  {
   "cell_type": "code",
   "execution_count": 41,
   "id": "175b6ecf-bad6-445e-92d5-9d24dbc55969",
   "metadata": {},
   "outputs": [],
   "source": [
    "#QUESTION 3\n",
    "\n",
    "#3A\n",
    "\n",
    "def angular_similarity(v1, v2):\n",
    "    return 1 - 1/np.pi*np.arccos(np.dot(v1/np.linalg.norm(v1), v2/np.linalg.norm(v2)))"
   ]
  },
  {
   "cell_type": "code",
   "execution_count": 46,
   "id": "a1c88584-82db-4752-97b3-c9ebbf565165",
   "metadata": {},
   "outputs": [
    {
     "name": "stdout",
     "output_type": "stream",
     "text": [
      "0.6155021824750988\n"
     ]
    }
   ],
   "source": [
    "#3A\n",
    "\n",
    "query_word1 = 'data'\n",
    "query_word2 = 'mining'\n",
    "query1_index = d[d[0]==query_word1].index[0]\n",
    "query2_index = d[d[0]==query_word2].index[0]\n",
    "query1_token = d.iloc[query1_index,1:]\n",
    "query2_token = d.iloc[query2_index,1:]\n",
    "\n",
    "print(angular_similarity(query1_token, query2_token))"
   ]
  },
  {
   "cell_type": "code",
   "execution_count": 48,
   "id": "d5e68738-5d65-423f-bb5c-9c3014cdabcb",
   "metadata": {},
   "outputs": [
    {
     "name": "stdout",
     "output_type": "stream",
     "text": [
      "0.46301423043225065\n",
      "0.5315541098203352\n"
     ]
    }
   ],
   "source": [
    "#3B\n",
    "\n",
    "import numpy as np\n",
    "random_vector = np.random.randn(100)\n",
    "unit_vector = random_vector / np.linalg.norm(random_vector)\n",
    "print(angular_similarity(query1_token, unit_vector))\n",
    "print(angular_similarity(query2_token, unit_vector))"
   ]
  },
  {
   "cell_type": "code",
   "execution_count": 52,
   "id": "d592f652-9c42-43e2-92b1-645008244550",
   "metadata": {},
   "outputs": [],
   "source": [
    "#3C\n",
    "number_of_random_vectors = 10\n",
    "\n",
    "dprods_q1 = np.empty(number_of_random_vectors)\n",
    "dprods_q2 = np.empty(number_of_random_vectors)\n",
    "rvecs = np.empty((number_of_random_vectors,100))\n",
    "\n",
    "for i in range(number_of_random_vectors):\n",
    "    random_vector = np.random.randn(100)\n",
    "    unit_vector = random_vector / np.linalg.norm(random_vector)\n",
    "    rvecs[i] = unit_vector\n",
    "    dprods_q1[i] = np.dot(unit_vector, query1_token)\n",
    "    dprods_q2[i] = np.dot(unit_vector, query2_token)\n",
    "\n",
    "print(dprods_q1)\n",
    "print(dprods_q2)"
   ]
  },
  {
   "cell_type": "code",
   "execution_count": null,
   "id": "1d50ed31-c845-4670-b577-3c7420f04305",
   "metadata": {},
   "outputs": [],
   "source": []
  },
  {
   "cell_type": "code",
   "execution_count": null,
   "id": "0758f393-76b3-4a9f-828d-3e092b2be227",
   "metadata": {},
   "outputs": [],
   "source": []
  },
  {
   "cell_type": "code",
   "execution_count": null,
   "id": "3c71d2e7-03f0-4745-ad1b-4b358df15f12",
   "metadata": {},
   "outputs": [],
   "source": []
  }
 ],
 "metadata": {
  "kernelspec": {
   "display_name": "data_mining_assignment_2_similarity_venv",
   "language": "python",
   "name": "data_mining_assignment_2_similarity_venv"
  },
  "language_info": {
   "codemirror_mode": {
    "name": "ipython",
    "version": 3
   },
   "file_extension": ".py",
   "mimetype": "text/x-python",
   "name": "python",
   "nbconvert_exporter": "python",
   "pygments_lexer": "ipython3",
   "version": "3.12.3"
  }
 },
 "nbformat": 4,
 "nbformat_minor": 5
}
